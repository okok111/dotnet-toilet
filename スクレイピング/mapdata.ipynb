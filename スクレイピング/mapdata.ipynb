import os
import googlemaps
import requests
import pandas as pd
from urllib.parse import urlparse, parse_qs

# --- 1. データ取得部分（前回と同じ） --------------------
API_KEY = os.environ["GOOGLE_MAPS_API_KEY"]
gm = googlemaps.Client(key=API_KEY)

center = (33.8833, 130.8758)  # 北九州市中心
places = gm.places_nearby(
    location=center,
    radius=15000,
    keyword="公衆トイレ",
    language="ja"
)

results = []
for p in places["results"]:
    place_id = p["place_id"]
    details = gm.place(
        place_id=place_id,
        fields=["name","formatted_address","geometry","photos","url"],
        language="ja"
    )["result"]

    lat     = details["geometry"]["location"]["lat"]
    lng     = details["geometry"]["location"]["lng"]
    address = details.get("formatted_address", "")
    name    = details.get("name", "")
    url     = details.get("url", "")

    photo_url = ""
    if "photos" in details and details["photos"]:
        ref  = details["photos"][0]["photo_reference"]
        photo_api = (
            "https://maps.googleapis.com/maps/api/place/photo"
            f"?maxwidth=800&photoreference={ref}&key={API_KEY}"
        )
        resp = requests.get(photo_api, allow_redirects=True)
        photo_url = resp.url

    results.append({
        "name":       name,
        "address":    address,
        "lat":        lat,
        "lng":        lng,
        "photo_url":  photo_url,
        "place_url":  url,
    })

# --- 2. pandas DataFrame に変換 -------------------------
df = pd.DataFrame(results)

# --- 3-A. Excel ファイルに書き出し ----------------------
excel_path = "kitakyushu_toilets.xlsx"
df.to_excel(excel_path, index=False)
print(f"Excel ファイルを作成しました: {excel_path}")

# --- 3-B. CSV ファイルに書き出し ------------------------
csv_path = "kitakyushu_toilets.csv"
df.to_csv(csv_path, index=False, encoding="utf-8-sig")
print(f"CSV ファイルを作成しました: {csv_path}")


https://chatgpt.com/share/685b1b3b-247c-800d-86a0-d8c40e7523c8